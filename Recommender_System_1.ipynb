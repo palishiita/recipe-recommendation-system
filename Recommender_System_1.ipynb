{
  "nbformat": 4,
  "nbformat_minor": 0,
  "metadata": {
    "colab": {
      "provenance": []
    },
    "kernelspec": {
      "name": "python3",
      "display_name": "Python 3"
    },
    "language_info": {
      "name": "python"
    }
  },
  "cells": [
    {
      "cell_type": "markdown",
      "source": [
        "# The simple recommender system allows a user to add recipes to their favorites list. User gets recommendation based on the common ingredients in the user's list of favorite recipes\n",
        "\n"
      ],
      "metadata": {
        "id": "zYfkbXyyu9bc"
      }
    },
    {
      "cell_type": "code",
      "execution_count": 1,
      "metadata": {
        "id": "aZbUMXbwikmU"
      },
      "outputs": [],
      "source": [
        "# Dummy recipe database with 20 recipes\n",
        "recipes = [\n",
        "    #1\n",
        "    {\n",
        "    'Name': 'Spaghetti Carbonara',\n",
        "    'Ingredients': ['spaghetti', 'pancetta', 'eggs', 'Pecorino cheese', 'Parmesan cheese', 'black pepper'],\n",
        "    'Instructions': ['Cook spaghetti according to package instructions.', 'In a separate pan, cook pancetta until crispy.', 'In a bowl, whisk eggs, Pecorino, and Parmesan cheese together.', 'Drain spaghetti and add it to the pan with pancetta. Remove from heat.', 'Quickly pour egg and cheese mixture over the hot pasta, tossing to combine. Add black pepper to taste.']\n",
        "    },\n",
        "    #2\n",
        "    {\n",
        "    'Name': 'Chicken Stir-Fry',\n",
        "    'Ingredients': ['boneless chicken breast', 'mixed vegetables', 'soy sauce', 'sesame oil', 'vegetable oil'],\n",
        "    'Instructions': ['Heat vegetable oil in a pan or wok over high heat.', 'Add chicken and cook until no longer pink. Remove from pan.', 'In the same pan, add sesame oil and sauté garlic for 30 seconds.', 'Add mixed vegetables and stir-fry for 3-4 minutes.', 'Return cooked chicken to the pan and add soy sauce. Stir-fry for another 2 minutes.']\n",
        "    },\n",
        "    #3\n",
        "    {\n",
        "    'Name': 'Caprese Salad',\n",
        "    'Ingredients': ['tomatoes', 'fresh mozzarella cheese', 'Fresh basil leaves', 'Balsamic vinegar', 'Olive oil', 'Salt', 'Pepper'],\n",
        "    'Instructions': ['Slice tomatoes and mozzarella cheese into 1/4 inch thick slices.', 'Arrange tomato, mozzarella, and basil on a platter in an alternating pattern.', 'Drizzle with balsamic vinegar and olive oil.', 'Sprinkle with salt and pepper to taste.']\n",
        "    },\n",
        "    #4\n",
        "    {\n",
        "    'Name': 'Vegetable Curry',\n",
        "    'Ingredients': ['potato', 'cauliflower florets', 'carrots', 'green peas', 'coconut milk', 'curry powder', 'Salt'],\n",
        "    'Instructions': ['In a large pot, combine potato, cauliflower, carrots, and peas.', 'Add coconut milk and curry powder. Simmer until vegetables are tender.', 'Season with salt to taste. Serve over rice or with naan bread.']\n",
        "    },\n",
        "    #5\n",
        "    {\n",
        "    'Name': 'Lemon Garlic Roasted Vegetables',\n",
        "    'Ingredients': ['mixed vegetables', 'olive oil', 'garlic', 'Lemon zest', 'Lemon juice', 'Salt', 'Pepper'],\n",
        "    'Instructions': ['Preheat oven to 200°C (400°F).', 'In a large bowl, toss mixed vegetables with olive oil, garlic, lemon zest, lemon juice, salt, and pepper.', 'Spread vegetables on a baking sheet in a single layer.', 'Roast for 25-30 minutes or until vegetables are tender and slightly golden.']\n",
        "    },\n",
        "    #6\n",
        "    {\n",
        "    'Name': 'Quinoa and Black Bean Salad',\n",
        "    'Ingredients': ['quinoa', 'black beans', 'corn', 'red bell pepper', 'red onion', 'fresh cilantro', 'lime juice', 'olive oil', 'Salt', 'Pepper'],\n",
        "    'Instructions': ['Rinse quinoa and cook according to package instructions.', 'In a large bowl, combine cooked quinoa, black beans, corn, bell pepper, and red onion.', 'In a small bowl, whisk together lime juice, olive oil, salt, and pepper. Pour over the salad.', 'Add fresh cilantro and toss to combine.']\n",
        "    },\n",
        "    #7\n",
        "    {\n",
        "    'Name': 'Beef and Vegetable Stir-Fry',\n",
        "    'Ingredients': ['beef strips', 'mixed vegetables', 'soy sauce', 'oyster sauce', 'sesame oil', 'garlic', 'vegetable oil'],\n",
        "    'Instructions': ['Heat vegetable oil in a wok or large skillet over high heat.', 'Add beef and cook until browned. Remove from pan.', 'In the same pan, add sesame oil and garlic. Sauté for 30 seconds.', 'Add mixed vegetables and stir-fry for 3-4 minutes.', 'Return cooked beef to the pan. Add soy sauce and oyster sauce. Stir-fry for another 2 minutes.']\n",
        "    },\n",
        "    #8\n",
        "    {\n",
        "    'Name': 'Tomato Basil Pasta',\n",
        "    'Ingredients': ['penne pasta', 'ripe tomatoes', 'fresh basil', 'garlic', 'olive oil', 'Salt', 'Pepper'],\n",
        "    'Instructions': ['Cook pasta according to package instructions. Drain and set aside.', 'In a large bowl, combine diced tomatoes, basil, garlic, olive oil, salt, and pepper.', 'Add cooked pasta and toss to combine. Serve warm.']\n",
        "    },\n",
        "    #9\n",
        "    {\n",
        "    'Name': 'Lemon Garlic Roast Chicken',\n",
        "    'Ingredients': ['whole chicken', 'garlic', 'lemons', 'olive oil', 'Salt', 'Pepper'],\n",
        "    'Instructions': ['Preheat oven to 180°C (350°F).', 'In a small bowl, mix garlic, lemon zest, lemon juice, olive oil, salt, and pepper.', 'Rub the mixture over the chicken, both inside and out.', 'Place the chicken in a roasting pan and roast for about 1.5 hours or until cooked through.']\n",
        "    },\n",
        "    #10\n",
        "    {\n",
        "    'Name': 'Garlic Parmesan Roasted Brussels Sprouts',\n",
        "    'Ingredients': ['Brussels sprouts', 'olive oil', 'garlic', 'Parmesan cheese', 'Salt', 'Pepper'],\n",
        "    'Instructions': ['Preheat oven to 220°C (425°F).', 'Trim and halve Brussels sprouts.', 'Toss Brussels sprouts with olive oil, minced garlic, salt, and pepper.', 'Spread them on a baking sheet in a single layer.', 'Roast for 20-25 minutes or until crispy and golden brown.', 'Sprinkle with grated Parmesan cheese before serving.']\n",
        "    },\n",
        "    #11\n",
        "    {\n",
        "    'Name': 'Greek Salad',\n",
        "    'Ingredients': ['mixed salad greens', 'cucumber', 'cherry tomatoes', 'red onion', 'feta cheese', 'Kalamata olives', 'Greek dressing'],\n",
        "    'Instructions': ['In a large bowl, combine salad greens, cucumber, cherry tomatoes, red onion, feta cheese, and olives (if using).', 'Drizzle with Greek dressing and toss to coat.']\n",
        "    },\n",
        "    #12\n",
        "    {\n",
        "    'Name': 'Vegetable and Lentil Soup',\n",
        "    'Ingredients': ['green lentils', 'carrots', 'celery stalks', 'onion', 'garlic', 'diced tomatoes', 'vegetable broth', 'cumin', 'Salt', 'Pepper'],\n",
        "    'Instructions': ['In a large pot, combine lentils, carrots, celery, onion, garlic, tomatoes, vegetable broth, and cumin.',\n",
        "                     'Bring to a boil, then reduce heat and simmer for 30-40 minutes or until lentils and vegetables are tender. Season with salt and pepper.']\n",
        "    },\n",
        "    #13\n",
        "    {\n",
        "    'Name': 'Mushroom Risotto',\n",
        "    'Ingredients': ['Arborio rice', 'mushrooms', 'onion', 'garlic', 'white wine', 'vegetable broth', 'butter', 'Parmesan cheese', 'Salt', 'Pepper'],\n",
        "    'Instructions': ['In a large saucepan, melt butter over medium heat. Add onions and garlic, sauté until translucent.',\n",
        "                     'Add Arborio rice and cook for 2 minutes, stirring constantly.',\n",
        "                     'Pour in white wine and cook until absorbed.',\n",
        "                     'Gradually add vegetable broth, one ladle at a time, stirring frequently until absorbed before adding more.',\n",
        "                     'In a separate pan, sauté mushrooms until golden brown.',\n",
        "                     'Once the rice is cooked and creamy, stir in sautéed mushrooms and Parmesan cheese. Season with salt and pepper.']\n",
        "    },\n",
        "    #14\n",
        "    {\n",
        "    'Name': 'Grilled Salmon with Lemon Dill Sauce',\n",
        "    'Ingredients': ['salmon fillets', 'lemons', 'fresh dill', 'olive oil', 'Salt', 'Pepper'],\n",
        "    'Instructions': ['Preheat grill to medium-high heat.',\n",
        "                     'Season salmon fillets with olive oil, salt, and pepper.',\n",
        "                     'Place salmon on grill and cook for about 4-5 minutes per side or until cooked through.',\n",
        "                     'In a small bowl, combine juice of 1 lemon and chopped dill to make the sauce. Serve over grilled salmon.']\n",
        "    },\n",
        "    #15\n",
        "    {\n",
        "    'Name': 'Chickpea and Spinach Curry',\n",
        "    'Ingredients': ['chickpeas', 'spinach', 'onion', 'garlic', 'coconut milk', 'curry powder', 'vegetable oil', 'Salt'],\n",
        "    'Instructions': ['In a large pot, heat vegetable oil over medium heat. Add onions and garlic, sauté until softened.',\n",
        "                     'Stir in curry powder and cook for 1-2 minutes.',\n",
        "                     'Add chickpeas, spinach, and coconut milk. Simmer for 10-15 minutes.',\n",
        "                     'Season with salt to taste. Serve over rice.']\n",
        "    },\n",
        "    #16\n",
        "    {\n",
        "    'Name': 'Caesar Salad',\n",
        "    'Ingredients': ['romaine lettuce', 'Caesar dressing', 'Parmesan cheese', 'croutons'],\n",
        "    'Instructions': ['In a large bowl, combine romaine lettuce and Caesar dressing. Toss to coat evenly.',\n",
        "                     'Add Parmesan cheese and croutons. Toss again until well combined.']\n",
        "    },\n",
        "    #17\n",
        "    {\n",
        "    'Name': 'Beef and Broccoli Stir-Fry',\n",
        "    'Ingredients': ['beef strips', 'broccoli florets', 'soy sauce', 'oyster sauce', 'sesame oil', 'garlic', 'vegetable oil'],\n",
        "    'Instructions': ['Heat vegetable oil in a wok or large skillet over high heat.',\n",
        "                     'Add beef and cook until browned. Remove from pan.',\n",
        "                     'In the same pan, add sesame oil and garlic. Sauté for 30 seconds.',\n",
        "                     'Add broccoli and stir-fry for 3-4 minutes.',\n",
        "                     'Return cooked beef to the pan. Add soy sauce and oyster sauce. Stir-fry for another 2 minutes.']\n",
        "    },\n",
        "    #18\n",
        "    {\n",
        "    'Name': 'Tomato Basil Bruschetta',\n",
        "    'Ingredients': ['tomatoes', 'fresh basil', 'garlic', 'balsamic vinegar', 'olive oil', 'Salt', 'Pepper', 'Baguette slices'],\n",
        "    'Instructions': ['In a bowl, combine diced tomatoes, basil, garlic, balsamic vinegar, olive oil, salt, and pepper.',\n",
        "                     'Spoon mixture onto toasted baguette slices and serve.']\n",
        "    },\n",
        "    #19\n",
        "    {\n",
        "    'Name': 'Shrimp and Vegetable Stir-Fry',\n",
        "    'Ingredients': ['shrimp', 'mixed vegetables', 'soy sauce', 'oyster sauce', 'sesame oil', 'vegetable oil', 'garlic'],\n",
        "    'Instructions': ['Heat vegetable oil in a wok or large skillet over high heat.',\n",
        "                     'Add shrimp and cook until pink. Remove from pan.',\n",
        "                     'In the same pan, add sesame oil and garlic. Sauté for 30 seconds.',\n",
        "                     'Add mixed vegetables and stir-fry for 3-4 minutes.',\n",
        "                     'Return cooked shrimp to the pan. Add soy sauce and oyster sauce. Stir-fry for another 2 minutes.']\n",
        "    },\n",
        "    #20\n",
        "    {\n",
        "    'Name': 'Vegetable Lasagna',\n",
        "    'Ingredients': ['lasagna noodles', 'ricotta cheese', 'mozzarella cheese', 'Parmesan cheese', 'mixed vegetables', 'marinara sauce', 'garlic'],\n",
        "    'Instructions': ['Preheat oven to 180°C (350°F).',\n",
        "                     'Cook lasagna noodles according to package instructions. Drain and set aside.',\n",
        "                     'In a bowl, combine ricotta, mozzarella, Parmesan, garlic, salt, and pepper.',\n",
        "                     'In a baking dish, layer marinara sauce, lasagna noodles, ricotta mixture, and mixed vegetables. Repeat until ingredients are used up.',\n",
        "                     'Bake for 30-35 minutes or until bubbly and golden.']\n",
        "    }\n",
        "]\n"
      ]
    },
    {
      "cell_type": "code",
      "source": [
        "def get_recommendations(favorites):\n",
        "    # Create a list to store the count of each ingredient\n",
        "    ingredient_count = {}\n",
        "\n",
        "    # Iterate through user's favorite recipes\n",
        "    for recipe_name in favorites:\n",
        "        for ingredient in recipes:\n",
        "            if recipe_name == ingredient['Name']:\n",
        "                for item in ingredient['Ingredients']:\n",
        "                    if item not in ingredient_count:\n",
        "                        ingredient_count[item] = 0\n",
        "                    ingredient_count[item] += 1\n",
        "\n",
        "    # Find recipes with common ingredients, but exclude user's favorites\n",
        "    recommended_recipes = []\n",
        "    for recipe in recipes:\n",
        "        if recipe['Name'] not in favorites:\n",
        "            common_ingredients = set(recipe['Ingredients']).intersection(ingredient_count.keys())\n",
        "            if len(common_ingredients) > 0:\n",
        "                recommended_recipes.append({'Name': recipe['Name'], 'Common Ingredients': list(common_ingredients)})\n",
        "\n",
        "    return recommended_recipes"
      ],
      "metadata": {
        "id": "mSyXbOvpuV1E"
      },
      "execution_count": 2,
      "outputs": []
    },
    {
      "cell_type": "code",
      "source": [
        "# Initialize an empty list to store user's favorite recipes\n",
        "user_favorites = []"
      ],
      "metadata": {
        "id": "hhYFgwvbuhgm"
      },
      "execution_count": 3,
      "outputs": []
    },
    {
      "cell_type": "code",
      "source": [
        "# Example: Add recipes to favorites (replace 'Recipe Name' with actual recipe names)\n",
        "user_favorites.append('Spaghetti Carbonara')\n",
        "user_favorites.append('Chicken Stir-Fry')"
      ],
      "metadata": {
        "id": "AEoLrnYBuiDp"
      },
      "execution_count": 4,
      "outputs": []
    },
    {
      "cell_type": "code",
      "source": [
        "# Get recommended recipes based on user's favorites\n",
        "recommendations = get_recommendations(user_favorites)"
      ],
      "metadata": {
        "id": "ex8JPk4TuoaZ"
      },
      "execution_count": 5,
      "outputs": []
    },
    {
      "cell_type": "code",
      "source": [
        "# Print recommended recipes\n",
        "print(\"Recommended Recipes:\")\n",
        "for recipe in recommendations:\n",
        "    print(f\"Recipe: {recipe['Name']}, Common Ingredients: {recipe['Common Ingredients']}\")"
      ],
      "metadata": {
        "colab": {
          "base_uri": "https://localhost:8080/"
        },
        "id": "tdyBr9Z8urdf",
        "outputId": "1cbfe0e0-4844-4867-ca9a-70b7b74f125f"
      },
      "execution_count": 6,
      "outputs": [
        {
          "output_type": "stream",
          "name": "stdout",
          "text": [
            "Recommended Recipes:\n",
            "Recipe: Lemon Garlic Roasted Vegetables, Common Ingredients: ['mixed vegetables']\n",
            "Recipe: Beef and Vegetable Stir-Fry, Common Ingredients: ['mixed vegetables', 'vegetable oil', 'soy sauce', 'sesame oil']\n",
            "Recipe: Garlic Parmesan Roasted Brussels Sprouts, Common Ingredients: ['Parmesan cheese']\n",
            "Recipe: Mushroom Risotto, Common Ingredients: ['Parmesan cheese']\n",
            "Recipe: Chickpea and Spinach Curry, Common Ingredients: ['vegetable oil']\n",
            "Recipe: Caesar Salad, Common Ingredients: ['Parmesan cheese']\n",
            "Recipe: Beef and Broccoli Stir-Fry, Common Ingredients: ['vegetable oil', 'soy sauce', 'sesame oil']\n",
            "Recipe: Shrimp and Vegetable Stir-Fry, Common Ingredients: ['mixed vegetables', 'vegetable oil', 'soy sauce', 'sesame oil']\n",
            "Recipe: Vegetable Lasagna, Common Ingredients: ['mixed vegetables', 'Parmesan cheese']\n"
          ]
        }
      ]
    }
  ]
}